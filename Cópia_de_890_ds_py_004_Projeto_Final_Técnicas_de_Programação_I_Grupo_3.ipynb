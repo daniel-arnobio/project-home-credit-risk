{
  "cells": [
    {
      "cell_type": "markdown",
      "metadata": {
        "id": "IOT8n05yeFEC"
      },
      "source": [
        "### Análise de Dados com Pandas\n",
        "* Projeto Final - Trilha DS-PY-004 TÉCNICAS DE PROGRAMAÇÃO I (PY) - Turma 890\n",
        "* Grupo 3\n",
        "\n",
        "Integrantes: \n",
        "- Carlos Henrique\n",
        "- Daniel Arnóbio\n",
        "- Laila Souza\n",
        "- Taiara Sampaio\n",
        "- Victor Hugo\n",
        "\n",
        "\n",
        "\n",
        "#### Dataset: Home Credit Default Risk (Kaggle)\n",
        "*Dados estáticos das requisições de financiamento. Cada linha representa um empréstimo no dataset.*\n",
        "\n",
        "\n",
        "Disponível para download em: [https://www.kaggle.com/competitions/home-credit-default-risk/data?select=application_train.csv](https://www.kaggle.com/competitions/home-credit-default-risk/data?select=application_train.csv)\n"
      ]
    },
    {
      "cell_type": "markdown",
      "metadata": {
        "id": "U4bC3iFNeFEV"
      },
      "source": [
        "------\n",
        "Considerando os temas estudados neste módulo e o dataset **home_credit_default_risk_application_100000** (*que é um recorte das 100.000 primeiras linhas do dataset supracitado*), responda apenas 12 das perguntas a seguir.\n",
        "\n",
        "Observações e/ou recomendações de tratamento:\n",
        "- Necessário fatiar de acordo com as colunas listadas na lista **selected_columns** informada abaixo\n",
        "- Juntar/Tratar os vários tipos de Industry no campo ORGANIZATION_TYPE;\n",
        "- Juntar/Tratar os vários tipos de Trade no campo ORGANIZATION_TYPE;\n",
        "- Juntar/Tratar os vários tipos de Transport no campo ORGANIZATION_TYPE;\n",
        "- Juntar/Tratar os vários tipos de Business Entity no campo ORGANIZATION_TYPE;\n",
        "- Algumas colunas apresentam outliers que PRECISAM ser desconsiderados ou zerados, como o valor 365243 em DAYS_EMPLOYED.\n",
        "- As colunas que contam dias levam em consideração DATADACOLUNA - HOJE, gerando, muitas vezes, números negativos que não devem prejudicar a análise.\n",
        "- Preferencialmente, sempre ordene os resultados de forma ascendente ou descendente.\n",
        "\n",
        "Glossário de apoio:\n",
        "- block of flats = apartamentos\n",
        "- AMT = amount / valor\n",
        "- QRT = Quarter / Trimestre\n",
        "-  CNT = count / qty / quantidade\n",
        "- 0 = Não / False / No\n",
        "- 1 = Sim / True / Yes\n",
        "\n",
        "\n",
        "\n",
        "\n"
      ]
    },
    {
      "cell_type": "markdown",
      "metadata": {
        "id": "z0PHpqfheFEX"
      },
      "source": [
        "---\n",
        "##### Perguntas - **Escolham 12 dentre todas abaixo**:\n",
        "\n",
        "- 01) Qual é a idade, em anos, do titular mais jovem?\n",
        "- 02) Qual a média do valor de anuidade dos residentes em apartamentos maiores de 50 anos?\n",
        "- 03) Existe uma correlação forte entre ter imóvel próprio e ter carro próprio? Por que?\n",
        "- 04) Quais os 3 principais tipos de ocupação de quem mora com parentes?\n",
        "- 05) Qual é a diferença entre a média de valor de crédito e a média de valor de anuidade quando filtramos pelos trabalhadores do tipo de organização Military?\n",
        "- 06) Considerando os tipos de ocupação, podemos dizer que os \"Managers\" possuem um valor de anuidade mais alto? Se não, qual é? \n",
        "- 07) Qual é o horário e dia da semana que mais trabalhadores dos tipos de organização Bank & Government optam por requisitar o financiamento?\n",
        "- 08) Qual a média de requisições de empréstimo entre trabalhadores com tipo de ocupação \"Sales staff\", que não moram com parentes, declararam não estarem em situação de emergência e possuem telefone de trabalho?\n",
        "- 09) Como você explica a correlação entre o número de filhos e idade (em anos)?\n",
        "- 10) Podemos concluir que, quanto mais tempo empregado, maior o crédito? Por que?\n",
        "- 11) Qual o desvio padrão da quantidade de filhos de quem tem 8 familiares?\n",
        "- 12) Quantos registros existem em que o número de filhos é maior que o número de familiares?\n",
        "- 13) Qual a média de dias por estado civil em que o telefone foi alterado de quem tem até 3 filhos, até 40 anos de idade e tem seu próprio imóvel?\n",
        "- 14) Qual a quantidade de requisições por escolaridade x possuir o seu próprio carro x possuir sua própria casa?\n",
        "- 15) Quais os 3 tipos de organização em que seus empregados mais requisitaram análise de crédito pelo Bureau no último trimestre (com exceção do tipo Other)?\n",
        "- 16) Qual gênero requisitou mais análise de crédito na última semana?\n",
        "- 17) Existe alguma inconsistência no campo que indica o tempo de posse do carro? Ou seja, existem registros em que o requisitante informou não ter carro e informou o tempo ou vice-versa?\n",
        "- 18) Qual a média de idade (em anos) por tipo de ocupação e escolaridade?\n",
        "- 19) Qual a média de valor de anuidade contratada considerando o número de filhos e escolaridade dos requisitantes que solicitaram financiamento em dia útil dentro do horário comercial padrão (8h às 18h)?\n",
        "- 20) Quais a média de crédito, média de filhos e média de idade (em anos) de quem declarou estado de emergência?\n",
        "- 21) Quais os tipos de ocupação e tipo de organização dos requisitantes com idade maior que 60 anos?\n",
        "- 22) Ao analisar correlações, quantidades e agrupamentos entre colunas de marcadores como possuir carro, possuir casa, tipo de moradia, estado civil, escolaridade ou afins, o que chama sua atenção?\n",
        "- 23) Quais as 10 colunas que você julga serem mais importantes ao avaliar o risco de inadimplência? Por que?\n",
        "- 24) Considerando a quantidade de campos nulos, quais colunas podem ter seu valor substituído por 0 ou N (Não, No, False) sem prejuízo para a análise feita aqui?"
      ]
    },
    {
      "cell_type": "markdown",
      "metadata": {
        "id": "5R8GIQUEeFEa"
      },
      "source": [
        "___\n",
        "___\n",
        "___"
      ]
    },
    {
      "cell_type": "code",
      "execution_count": 413,
      "metadata": {
        "id": "i7PNbObVeFEc"
      },
      "outputs": [],
      "source": [
        "#listando as colunas que serão utilizadas para correlação\n",
        "\n",
        "selected_columns = ['SK_ID_CURR',\n",
        " 'TARGET',\n",
        " 'NAME_CONTRACT_TYPE',\n",
        " 'CODE_GENDER',\n",
        " 'FLAG_OWN_CAR',\n",
        " 'FLAG_OWN_REALTY',\n",
        " 'CNT_CHILDREN',\n",
        " 'AMT_INCOME_TOTAL',\n",
        " 'AMT_CREDIT',\n",
        " 'AMT_ANNUITY',\n",
        " 'AMT_GOODS_PRICE',\n",
        " #'NAME_TYPE_SUITE',\n",
        " #'NAME_INCOME_TYPE',\n",
        " 'NAME_EDUCATION_TYPE',\n",
        " 'NAME_FAMILY_STATUS',\n",
        " 'NAME_HOUSING_TYPE',\n",
        " #'REGION_POPULATION_RELATIVE',\n",
        " 'DAYS_BIRTH',\n",
        " 'DAYS_EMPLOYED',\n",
        " #'DAYS_REGISTRATION',\n",
        " #'DAYS_ID_PUBLISH',\n",
        " 'OWN_CAR_AGE',\n",
        " #'FLAG_MOBIL',\n",
        " #'FLAG_EMP_PHONE',\n",
        " 'FLAG_WORK_PHONE',\n",
        " 'FLAG_CONT_MOBILE',\n",
        " #'FLAG_PHONE',\n",
        " 'FLAG_EMAIL',\n",
        " 'OCCUPATION_TYPE',\n",
        " 'CNT_FAM_MEMBERS',\n",
        " 'REGION_RATING_CLIENT',\n",
        " #'REGION_RATING_CLIENT_W_CITY',\n",
        " 'WEEKDAY_APPR_PROCESS_START',\n",
        " 'HOUR_APPR_PROCESS_START',\n",
        " #'REG_REGION_NOT_LIVE_REGION',\n",
        " #'REG_REGION_NOT_WORK_REGION',\n",
        " #'LIVE_REGION_NOT_WORK_REGION',\n",
        " #'REG_CITY_NOT_LIVE_CITY',\n",
        " #'REG_CITY_NOT_WORK_CITY',\n",
        " #'LIVE_CITY_NOT_WORK_CITY',\n",
        " 'ORGANIZATION_TYPE',\n",
        "#  'EXT_SOURCE_1',\n",
        "#  'EXT_SOURCE_2',\n",
        "#  'EXT_SOURCE_3',\n",
        "#  'APARTMENTS_AVG',\n",
        "#  'BASEMENTAREA_AVG',\n",
        "#  'YEARS_BEGINEXPLUATATION_AVG',\n",
        "#  'YEARS_BUILD_AVG',\n",
        "#  'COMMONAREA_AVG',\n",
        "#  'ELEVATORS_AVG',\n",
        "#  'ENTRANCES_AVG',\n",
        "#  'FLOORSMAX_AVG',\n",
        "#  'FLOORSMIN_AVG',\n",
        "#  'LANDAREA_AVG',\n",
        "#  'LIVINGAPARTMENTS_AVG',\n",
        "#  'LIVINGAREA_AVG',\n",
        "#  'NONLIVINGAPARTMENTS_AVG',\n",
        "#  'NONLIVINGAREA_AVG',\n",
        "#  'APARTMENTS_MODE',\n",
        "#  'BASEMENTAREA_MODE',\n",
        "#  'YEARS_BEGINEXPLUATATION_MODE',\n",
        "#  'YEARS_BUILD_MODE',\n",
        "#  'COMMONAREA_MODE',\n",
        "#  'ELEVATORS_MODE',\n",
        "#  'ENTRANCES_MODE',\n",
        "#  'FLOORSMAX_MODE',\n",
        "#  'FLOORSMIN_MODE',\n",
        "#  'LANDAREA_MODE',\n",
        "#  'LIVINGAPARTMENTS_MODE',\n",
        "#  'LIVINGAREA_MODE',\n",
        "#  'NONLIVINGAPARTMENTS_MODE',\n",
        "#  'NONLIVINGAREA_MODE',\n",
        "#  'APARTMENTS_MEDI',\n",
        "#  'BASEMENTAREA_MEDI',\n",
        "#  'YEARS_BEGINEXPLUATATION_MEDI',\n",
        "#  'YEARS_BUILD_MEDI',\n",
        "#  'COMMONAREA_MEDI',\n",
        "#  'ELEVATORS_MEDI',\n",
        "#  'ENTRANCES_MEDI',\n",
        "#  'FLOORSMAX_MEDI',\n",
        "#  'FLOORSMIN_MEDI',\n",
        "#  'LANDAREA_MEDI',\n",
        "#  'LIVINGAPARTMENTS_MEDI',\n",
        "#  'LIVINGAREA_MEDI',\n",
        "#  'NONLIVINGAPARTMENTS_MEDI',\n",
        "#  'NONLIVINGAREA_MEDI',\n",
        "#  'FONDKAPREMONT_MODE',\n",
        " 'HOUSETYPE_MODE',\n",
        " #'TOTALAREA_MODE',\n",
        " 'WALLSMATERIAL_MODE',\n",
        " 'EMERGENCYSTATE_MODE',\n",
        "#  'OBS_30_CNT_SOCIAL_CIRCLE',\n",
        "#  'DEF_30_CNT_SOCIAL_CIRCLE',\n",
        "#  'OBS_60_CNT_SOCIAL_CIRCLE',\n",
        "#  'DEF_60_CNT_SOCIAL_CIRCLE',\n",
        " 'DAYS_LAST_PHONE_CHANGE',\n",
        "#  'FLAG_DOCUMENT_2',\n",
        "#  'FLAG_DOCUMENT_3',\n",
        "#  'FLAG_DOCUMENT_4',\n",
        "#  'FLAG_DOCUMENT_5',\n",
        "#  'FLAG_DOCUMENT_6',\n",
        "#  'FLAG_DOCUMENT_7',\n",
        "#  'FLAG_DOCUMENT_8',\n",
        "#  'FLAG_DOCUMENT_9',\n",
        "#  'FLAG_DOCUMENT_10',\n",
        "#  'FLAG_DOCUMENT_11',\n",
        "#  'FLAG_DOCUMENT_12',\n",
        "#  'FLAG_DOCUMENT_13',\n",
        "#  'FLAG_DOCUMENT_14',\n",
        "#  'FLAG_DOCUMENT_15',\n",
        "#  'FLAG_DOCUMENT_16',\n",
        "#  'FLAG_DOCUMENT_17',\n",
        "#  'FLAG_DOCUMENT_18',\n",
        "#  'FLAG_DOCUMENT_19',\n",
        "#  'FLAG_DOCUMENT_20',\n",
        "#  'FLAG_DOCUMENT_21',\n",
        " 'AMT_REQ_CREDIT_BUREAU_HOUR',\n",
        " 'AMT_REQ_CREDIT_BUREAU_DAY',\n",
        " 'AMT_REQ_CREDIT_BUREAU_WEEK',\n",
        " 'AMT_REQ_CREDIT_BUREAU_MON',\n",
        " 'AMT_REQ_CREDIT_BUREAU_QRT',\n",
        " 'AMT_REQ_CREDIT_BUREAU_YEAR']\n"
      ]
    },
    {
      "cell_type": "code",
      "execution_count": 414,
      "metadata": {
        "id": "EiI6l1qohSy1"
      },
      "outputs": [],
      "source": [
        "#Importando as bibliotecas\n",
        "\n",
        "import numpy as np\n",
        "import pandas as pd\n",
        "import seaborn as sns\n",
        "sns.set_palette('Set2')"
      ]
    },
    {
      "cell_type": "code",
      "execution_count": 415,
      "metadata": {
        "colab": {
          "base_uri": "https://localhost:8080/",
          "height": 345
        },
        "id": "hdnEi43xhYkX",
        "outputId": "cc623fef-19a5-4a60-8023-30d8d4d1875e"
      },
      "outputs": [
        {
          "name": "stdout",
          "output_type": "stream",
          "text": [
            "<class 'pandas.core.frame.DataFrame'>\n",
            "RangeIndex: 100000 entries, 0 to 99999\n",
            "Data columns (total 36 columns):\n",
            " #   Column                      Non-Null Count   Dtype  \n",
            "---  ------                      --------------   -----  \n",
            " 0   SK_ID_CURR                  100000 non-null  int64  \n",
            " 1   TARGET                      100000 non-null  int64  \n",
            " 2   NAME_CONTRACT_TYPE          100000 non-null  object \n",
            " 3   CODE_GENDER                 100000 non-null  object \n",
            " 4   FLAG_OWN_CAR                100000 non-null  object \n",
            " 5   FLAG_OWN_REALTY             100000 non-null  object \n",
            " 6   CNT_CHILDREN                100000 non-null  int64  \n",
            " 7   AMT_INCOME_TOTAL            100000 non-null  float64\n",
            " 8   AMT_CREDIT                  100000 non-null  float64\n",
            " 9   AMT_ANNUITY                 99993 non-null   float64\n",
            " 10  AMT_GOODS_PRICE             99919 non-null   float64\n",
            " 11  NAME_EDUCATION_TYPE         100000 non-null  object \n",
            " 12  NAME_FAMILY_STATUS          100000 non-null  object \n",
            " 13  NAME_HOUSING_TYPE           100000 non-null  object \n",
            " 14  DAYS_BIRTH                  100000 non-null  int64  \n",
            " 15  DAYS_EMPLOYED               100000 non-null  int64  \n",
            " 16  OWN_CAR_AGE                 33981 non-null   float64\n",
            " 17  FLAG_WORK_PHONE             100000 non-null  int64  \n",
            " 18  FLAG_CONT_MOBILE            100000 non-null  int64  \n",
            " 19  FLAG_EMAIL                  100000 non-null  int64  \n",
            " 20  OCCUPATION_TYPE             68776 non-null   object \n",
            " 21  CNT_FAM_MEMBERS             99999 non-null   float64\n",
            " 22  REGION_RATING_CLIENT        100000 non-null  int64  \n",
            " 23  WEEKDAY_APPR_PROCESS_START  100000 non-null  object \n",
            " 24  HOUR_APPR_PROCESS_START     100000 non-null  int64  \n",
            " 25  ORGANIZATION_TYPE           100000 non-null  object \n",
            " 26  HOUSETYPE_MODE              49895 non-null   object \n",
            " 27  WALLSMATERIAL_MODE          49235 non-null   object \n",
            " 28  EMERGENCYSTATE_MODE         52667 non-null   object \n",
            " 29  DAYS_LAST_PHONE_CHANGE      99999 non-null   float64\n",
            " 30  AMT_REQ_CREDIT_BUREAU_HOUR  86563 non-null   float64\n",
            " 31  AMT_REQ_CREDIT_BUREAU_DAY   86563 non-null   float64\n",
            " 32  AMT_REQ_CREDIT_BUREAU_WEEK  86563 non-null   float64\n",
            " 33  AMT_REQ_CREDIT_BUREAU_MON   86563 non-null   float64\n",
            " 34  AMT_REQ_CREDIT_BUREAU_QRT   86563 non-null   float64\n",
            " 35  AMT_REQ_CREDIT_BUREAU_YEAR  86563 non-null   float64\n",
            "dtypes: float64(13), int64(10), object(13)\n",
            "memory usage: 27.5+ MB\n"
          ]
        }
      ],
      "source": [
        "#Importando os dados e filtrando as colunas\n",
        "df = pd.read_csv(\"C:\\home_credit_default_risk_application_100000.csv\")\n",
        "df = df[selected_columns]\n",
        "df.info()"
      ]
    },
    {
      "cell_type": "code",
      "execution_count": 416,
      "metadata": {},
      "outputs": [
        {
          "data": {
            "text/html": [
              "<div>\n",
              "<style scoped>\n",
              "    .dataframe tbody tr th:only-of-type {\n",
              "        vertical-align: middle;\n",
              "    }\n",
              "\n",
              "    .dataframe tbody tr th {\n",
              "        vertical-align: top;\n",
              "    }\n",
              "\n",
              "    .dataframe thead th {\n",
              "        text-align: right;\n",
              "    }\n",
              "</style>\n",
              "<table border=\"1\" class=\"dataframe\">\n",
              "  <thead>\n",
              "    <tr style=\"text-align: right;\">\n",
              "      <th></th>\n",
              "      <th>0</th>\n",
              "      <th>proporçao %</th>\n",
              "    </tr>\n",
              "  </thead>\n",
              "  <tbody>\n",
              "    <tr>\n",
              "      <th>OWN_CAR_AGE</th>\n",
              "      <td>66019</td>\n",
              "      <td>66.019</td>\n",
              "    </tr>\n",
              "    <tr>\n",
              "      <th>WALLSMATERIAL_MODE</th>\n",
              "      <td>50765</td>\n",
              "      <td>50.765</td>\n",
              "    </tr>\n",
              "    <tr>\n",
              "      <th>HOUSETYPE_MODE</th>\n",
              "      <td>50105</td>\n",
              "      <td>50.105</td>\n",
              "    </tr>\n",
              "    <tr>\n",
              "      <th>EMERGENCYSTATE_MODE</th>\n",
              "      <td>47333</td>\n",
              "      <td>47.333</td>\n",
              "    </tr>\n",
              "    <tr>\n",
              "      <th>OCCUPATION_TYPE</th>\n",
              "      <td>31224</td>\n",
              "      <td>31.224</td>\n",
              "    </tr>\n",
              "    <tr>\n",
              "      <th>AMT_REQ_CREDIT_BUREAU_YEAR</th>\n",
              "      <td>13437</td>\n",
              "      <td>13.437</td>\n",
              "    </tr>\n",
              "    <tr>\n",
              "      <th>AMT_REQ_CREDIT_BUREAU_QRT</th>\n",
              "      <td>13437</td>\n",
              "      <td>13.437</td>\n",
              "    </tr>\n",
              "    <tr>\n",
              "      <th>AMT_REQ_CREDIT_BUREAU_MON</th>\n",
              "      <td>13437</td>\n",
              "      <td>13.437</td>\n",
              "    </tr>\n",
              "    <tr>\n",
              "      <th>AMT_REQ_CREDIT_BUREAU_WEEK</th>\n",
              "      <td>13437</td>\n",
              "      <td>13.437</td>\n",
              "    </tr>\n",
              "    <tr>\n",
              "      <th>AMT_REQ_CREDIT_BUREAU_DAY</th>\n",
              "      <td>13437</td>\n",
              "      <td>13.437</td>\n",
              "    </tr>\n",
              "    <tr>\n",
              "      <th>AMT_REQ_CREDIT_BUREAU_HOUR</th>\n",
              "      <td>13437</td>\n",
              "      <td>13.437</td>\n",
              "    </tr>\n",
              "    <tr>\n",
              "      <th>AMT_GOODS_PRICE</th>\n",
              "      <td>81</td>\n",
              "      <td>0.081</td>\n",
              "    </tr>\n",
              "    <tr>\n",
              "      <th>AMT_ANNUITY</th>\n",
              "      <td>7</td>\n",
              "      <td>0.007</td>\n",
              "    </tr>\n",
              "    <tr>\n",
              "      <th>DAYS_LAST_PHONE_CHANGE</th>\n",
              "      <td>1</td>\n",
              "      <td>0.001</td>\n",
              "    </tr>\n",
              "    <tr>\n",
              "      <th>CNT_FAM_MEMBERS</th>\n",
              "      <td>1</td>\n",
              "      <td>0.001</td>\n",
              "    </tr>\n",
              "  </tbody>\n",
              "</table>\n",
              "</div>"
            ],
            "text/plain": [
              "                                0  proporçao %\n",
              "OWN_CAR_AGE                 66019       66.019\n",
              "WALLSMATERIAL_MODE          50765       50.765\n",
              "HOUSETYPE_MODE              50105       50.105\n",
              "EMERGENCYSTATE_MODE         47333       47.333\n",
              "OCCUPATION_TYPE             31224       31.224\n",
              "AMT_REQ_CREDIT_BUREAU_YEAR  13437       13.437\n",
              "AMT_REQ_CREDIT_BUREAU_QRT   13437       13.437\n",
              "AMT_REQ_CREDIT_BUREAU_MON   13437       13.437\n",
              "AMT_REQ_CREDIT_BUREAU_WEEK  13437       13.437\n",
              "AMT_REQ_CREDIT_BUREAU_DAY   13437       13.437\n",
              "AMT_REQ_CREDIT_BUREAU_HOUR  13437       13.437\n",
              "AMT_GOODS_PRICE                81        0.081\n",
              "AMT_ANNUITY                     7        0.007\n",
              "DAYS_LAST_PHONE_CHANGE          1        0.001\n",
              "CNT_FAM_MEMBERS                 1        0.001"
            ]
          },
          "execution_count": 416,
          "metadata": {},
          "output_type": "execute_result"
        }
      ],
      "source": [
        "#Colunas com valores nulos\n",
        "colunas_nulos = df.isnull().sum().sort_values(ascending=False)\n",
        "colunas_nulos = colunas_nulos[colunas_nulos>0]\n",
        "colunas_nulos = pd.DataFrame(colunas_nulos)\n",
        "colunas_nulos['proporçao %'] = (colunas_nulos/len(df))*100\n",
        "colunas_nulos"
      ]
    },
    {
      "cell_type": "code",
      "execution_count": 417,
      "metadata": {},
      "outputs": [],
      "source": [
        "# Fazendo o tratamento dos types\n",
        "def tratar_ORGANIZATION_TYPE(x):\n",
        "    for i in range(14):\n",
        "        x = str(x).replace(' Type '+str(i),'').replace(': type '+(str(i)) if (i < 10) else str(i-10),'')\n",
        "    return x\n",
        "\n",
        "df['ORGANIZATION_TYPE'] = df['ORGANIZATION_TYPE'].apply(lambda x: tratar_ORGANIZATION_TYPE(x))"
      ]
    },
    {
      "cell_type": "markdown",
      "metadata": {
        "id": "yBPNaUFtid4X"
      },
      "source": [
        "01) Qual é a idade, em anos, do titular mais jovem?\n"
      ]
    },
    {
      "cell_type": "code",
      "execution_count": 418,
      "metadata": {},
      "outputs": [
        {
          "data": {
            "text/plain": [
              "<AxesSubplot:>"
            ]
          },
          "execution_count": 418,
          "metadata": {},
          "output_type": "execute_result"
        },
        {
          "data": {
            "image/png": "[encoded data removed]",
            "text/plain": [
              "<Figure size 432x288 with 1 Axes>"
            ]
          },
          "metadata": {
            "needs_background": "light"
          },
          "output_type": "display_data"
        }
      ],
      "source": [
        "#Aparentemente todos os valores estão negativos e em dias\n",
        "df.DAYS_BIRTH.plot(kind='box')"
      ]
    },
    {
      "cell_type": "code",
      "execution_count": 419,
      "metadata": {},
      "outputs": [],
      "source": [
        "#Tratando a coluna DAYS_BIRTH\n",
        "df.rename(columns = {'DAYS_BIRTH':'YEARS_BIRTH'}, inplace=True)\n",
        "df['YEARS_BIRTH']= df.YEARS_BIRTH.apply(lambda x: round((x/365)*(-1), 0))"
      ]
    },
    {
      "cell_type": "code",
      "execution_count": 420,
      "metadata": {},
      "outputs": [
        {
          "data": {
            "image/png": "[encoded data removed]",
            "text/plain": [
              "<Figure size 432x288 with 1 Axes>"
            ]
          },
          "metadata": {
            "needs_background": "light"
          },
          "output_type": "display_data"
        }
      ],
      "source": [
        "sns.histplot(data = df.YEARS_BIRTH, bins=10);"
      ]
    },
    {
      "cell_type": "code",
      "execution_count": 421,
      "metadata": {},
      "outputs": [
        {
          "name": "stdout",
          "output_type": "stream",
          "text": [
            "A idade, em anos, do titular mais novo é 21.0 anos\n"
          ]
        }
      ],
      "source": [
        "print(f'A idade, em anos, do titular mais novo é {df.YEARS_BIRTH.min()} anos')"
      ]
    },
    {
      "cell_type": "markdown",
      "metadata": {},
      "source": [
        "02) Qual a média do valor de anuidade dos residentes em apartamentos maiores de 50 anos?"
      ]
    },
    {
      "cell_type": "code",
      "execution_count": 422,
      "metadata": {},
      "outputs": [
        {
          "name": "stdout",
          "output_type": "stream",
          "text": [
            "A média do valor da anuidade dos residentes em apartamentos maiores de 50 anos é $27198.43\n"
          ]
        }
      ],
      "source": [
        "filtro = (df.YEARS_BIRTH>50) & (df.HOUSETYPE_MODE=='block of flats') \n",
        "\n",
        "media = df[filtro]['AMT_ANNUITY'].mean()\n",
        "\n",
        "print(f'A média do valor da anuidade dos residentes em apartamentos maiores de 50 anos é ${media:.2f}')"
      ]
    },
    {
      "cell_type": "markdown",
      "metadata": {},
      "source": [
        "03) Existe uma correlação forte entre ter imóvel próprio e ter carro próprio? Por que?\n"
      ]
    },
    {
      "cell_type": "code",
      "execution_count": 423,
      "metadata": {},
      "outputs": [],
      "source": [
        "#Antes de tudo, precisamos deixar as colunas com valores numéricos para calcular a correlação entre elas\n",
        "df['FLAG_OWN_CAR']= df['FLAG_OWN_CAR'].apply(lambda x: 1 if (x=='Y') else 0)  \n",
        "df['FLAG_OWN_REALTY']= df['FLAG_OWN_REALTY'].apply(lambda x: 1 if (x=='Y') else 0) "
      ]
    },
    {
      "cell_type": "code",
      "execution_count": 424,
      "metadata": {},
      "outputs": [
        {
          "data": {
            "text/html": [
              "<div>\n",
              "<style scoped>\n",
              "    .dataframe tbody tr th:only-of-type {\n",
              "        vertical-align: middle;\n",
              "    }\n",
              "\n",
              "    .dataframe tbody tr th {\n",
              "        vertical-align: top;\n",
              "    }\n",
              "\n",
              "    .dataframe thead th {\n",
              "        text-align: right;\n",
              "    }\n",
              "</style>\n",
              "<table border=\"1\" class=\"dataframe\">\n",
              "  <thead>\n",
              "    <tr style=\"text-align: right;\">\n",
              "      <th></th>\n",
              "      <th>FLAG_OWN_REALTY</th>\n",
              "      <th>FLAG_OWN_CAR</th>\n",
              "    </tr>\n",
              "  </thead>\n",
              "  <tbody>\n",
              "    <tr>\n",
              "      <th>FLAG_OWN_REALTY</th>\n",
              "      <td>1.00000</td>\n",
              "      <td>0.00247</td>\n",
              "    </tr>\n",
              "    <tr>\n",
              "      <th>FLAG_OWN_CAR</th>\n",
              "      <td>0.00247</td>\n",
              "      <td>1.00000</td>\n",
              "    </tr>\n",
              "  </tbody>\n",
              "</table>\n",
              "</div>"
            ],
            "text/plain": [
              "                 FLAG_OWN_REALTY  FLAG_OWN_CAR\n",
              "FLAG_OWN_REALTY          1.00000       0.00247\n",
              "FLAG_OWN_CAR             0.00247       1.00000"
            ]
          },
          "execution_count": 424,
          "metadata": {},
          "output_type": "execute_result"
        }
      ],
      "source": [
        "colunas = ['FLAG_OWN_REALTY', 'FLAG_OWN_CAR']\n",
        "df[colunas].corr()"
      ]
    },
    {
      "cell_type": "markdown",
      "metadata": {},
      "source": [
        "04) Quais os 3 principais tipos de ocupação de quem mora com parentes?\n"
      ]
    },
    {
      "cell_type": "code",
      "execution_count": 425,
      "metadata": {},
      "outputs": [
        {
          "data": {
            "text/plain": [
              "OCCUPATION_TYPE\n",
              "Laborers       1100\n",
              "Sales staff     715\n",
              "Core staff      576\n",
              "Name: OCCUPATION_TYPE, dtype: int64"
            ]
          },
          "execution_count": 425,
          "metadata": {},
          "output_type": "execute_result"
        }
      ],
      "source": [
        "colunas = ['OCCUPATION_TYPE']\n",
        "filtros = (df['NAME_HOUSING_TYPE'] == 'With parents')\n",
        "df[filtros].groupby(colunas)['OCCUPATION_TYPE'].count().sort_values(ascending= False)[0:3]"
      ]
    },
    {
      "cell_type": "markdown",
      "metadata": {},
      "source": [
        "05) Qual é a diferença entre a média de valor de crédito e a média de valor de anuidade quando filtramos pelos trabalhadores do tipo de organização Military?"
      ]
    },
    {
      "cell_type": "code",
      "execution_count": 426,
      "metadata": {},
      "outputs": [
        {
          "name": "stdout",
          "output_type": "stream",
          "text": [
            "A diferença entre as médias é $571918.12\n"
          ]
        }
      ],
      "source": [
        "filtros = (df.OCCUPATION_TYPE == 'Military')\n",
        "\n",
        "diferenca_medias = df[['AMT_CREDIT', 'AMT_ANNUITY']].mean()[0] - df[['AMT_CREDIT', 'AMT_ANNUITY']].mean()[1]\n",
        "\n",
        "print(f'A diferença entre as médias é ${diferenca_medias:.2f}')"
      ]
    },
    {
      "cell_type": "code",
      "execution_count": 427,
      "metadata": {},
      "outputs": [
        {
          "data": {
            "text/plain": [
              "AMT_CREDIT    NaN\n",
              "AMT_ANNUITY   NaN\n",
              "dtype: float64"
            ]
          },
          "execution_count": 427,
          "metadata": {},
          "output_type": "execute_result"
        }
      ],
      "source": [
        "df[filtros][['AMT_CREDIT', 'AMT_ANNUITY']].mean()"
      ]
    },
    {
      "cell_type": "markdown",
      "metadata": {},
      "source": [
        "06) Considerando os tipos de ocupação, podemos dizer que os \"Managers\" possuem um valor de anuidade mais alto? Se não, qual é? "
      ]
    },
    {
      "cell_type": "code",
      "execution_count": 362,
      "metadata": {},
      "outputs": [],
      "source": [
        "colunas = ['OCCUPATION_TYPE']\n",
        "serie = df.groupby(colunas)['AMT_ANNUITY'].max().sort_values(ascending= False)[0:3]\n",
        "serie = pd.DataFrame(serie).reset_index()"
      ]
    },
    {
      "cell_type": "code",
      "execution_count": 363,
      "metadata": {},
      "outputs": [
        {
          "data": {
            "text/plain": [
              "Index(['OCCUPATION_TYPE', 'AMT_ANNUITY'], dtype='object')"
            ]
          },
          "execution_count": 363,
          "metadata": {},
          "output_type": "execute_result"
        }
      ],
      "source": [
        "serie.columns"
      ]
    },
    {
      "cell_type": "code",
      "execution_count": 364,
      "metadata": {},
      "outputs": [
        {
          "data": {
            "text/plain": [
              "<AxesSubplot:xlabel='OCCUPATION_TYPE', ylabel='AMT_ANNUITY'>"
            ]
          },
          "execution_count": 364,
          "metadata": {},
          "output_type": "execute_result"
        },
        {
          "data": {
            "image/png": "[encoded data removed]",
            "text/plain": [
              "<Figure size 432x288 with 1 Axes>"
            ]
          },
          "metadata": {
            "needs_background": "light"
          },
          "output_type": "display_data"
        }
      ],
      "source": [
        "sns.barplot(data = serie, x= 'OCCUPATION_TYPE', y = 'AMT_ANNUITY', hue ='OCCUPATION_TYPE')"
      ]
    },
    {
      "cell_type": "markdown",
      "metadata": {},
      "source": [
        "07) Qual é o horário e dia da semana que mais trabalhadores dos tipos de organização Bank & Government optam por requisitar o financiamento?"
      ]
    },
    {
      "cell_type": "code",
      "execution_count": 441,
      "metadata": {},
      "outputs": [
        {
          "data": {
            "text/plain": [
              "WEEKDAY_APPR_PROCESS_START  HOUR_APPR_PROCESS_START\n",
              "TUESDAY                     11                         98\n",
              "dtype: int64"
            ]
          },
          "execution_count": 441,
          "metadata": {},
          "output_type": "execute_result"
        }
      ],
      "source": [
        "filtros =  (df['ORGANIZATION_TYPE']=='Bank') | (df['ORGANIZATION_TYPE']=='Government')\n",
        "df[filtros][['WEEKDAY_APPR_PROCESS_START', 'HOUR_APPR_PROCESS_START']].value_counts().head(1)"
      ]
    },
    {
      "cell_type": "markdown",
      "metadata": {},
      "source": [
        "08) Qual a média de requisições de empréstimo entre trabalhadores com tipo de ocupação \"Sales staff\", que não moram com parentes, declararam não estarem em situação de emergência e possuem telefone de trabalho?"
      ]
    },
    {
      "cell_type": "code",
      "execution_count": 433,
      "metadata": {},
      "outputs": [
        {
          "name": "stdout",
          "output_type": "stream",
          "text": [
            "Média: 1.70\n"
          ]
        }
      ],
      "source": [
        "colunas = ['AMT_REQ_CREDIT_BUREAU_YEAR', 'EMERGENCYSTATE_MODE', 'FLAG_WORK_PHONE', 'CNT_FAM_MEMBERS', 'OCCUPATION_TYPE']\n",
        " \n",
        "filtros = (df.OCCUPATION_TYPE == 'Sales staff') & (df.NAME_HOUSING_TYPE != 'With parents') & (df.EMERGENCYSTATE_MODE == 'No') &  (df.FLAG_WORK_PHONE == 1)\n",
        "media = df[filtros]['AMT_REQ_CREDIT_BUREAU_YEAR'].mean()\n",
        "print(f'Média: {media:.2f}')"
      ]
    },
    {
      "cell_type": "code",
      "execution_count": 367,
      "metadata": {},
      "outputs": [
        {
          "data": {
            "text/plain": [
              "<AxesSubplot:ylabel='Frequency'>"
            ]
          },
          "execution_count": 367,
          "metadata": {},
          "output_type": "execute_result"
        },
        {
          "data": {
            "image/png": "[encoded data removed]",
            "text/plain": [
              "<Figure size 432x288 with 1 Axes>"
            ]
          },
          "metadata": {
            "needs_background": "light"
          },
          "output_type": "display_data"
        }
      ],
      "source": [
        "df.AMT_REQ_CREDIT_BUREAU_YEAR.plot(kind='hist')"
      ]
    },
    {
      "cell_type": "markdown",
      "metadata": {},
      "source": [
        "09) Como você explica a correlação entre o número de filhos e idade (em anos)?"
      ]
    },
    {
      "cell_type": "code",
      "execution_count": 392,
      "metadata": {},
      "outputs": [
        {
          "data": {
            "text/html": [
              "<div>\n",
              "<style scoped>\n",
              "    .dataframe tbody tr th:only-of-type {\n",
              "        vertical-align: middle;\n",
              "    }\n",
              "\n",
              "    .dataframe tbody tr th {\n",
              "        vertical-align: top;\n",
              "    }\n",
              "\n",
              "    .dataframe thead th {\n",
              "        text-align: right;\n",
              "    }\n",
              "</style>\n",
              "<table border=\"1\" class=\"dataframe\">\n",
              "  <thead>\n",
              "    <tr style=\"text-align: right;\">\n",
              "      <th></th>\n",
              "      <th>CNT_CHILDREN</th>\n",
              "      <th>YEARS_BIRTH</th>\n",
              "    </tr>\n",
              "  </thead>\n",
              "  <tbody>\n",
              "    <tr>\n",
              "      <th>CNT_CHILDREN</th>\n",
              "      <td>1.000000</td>\n",
              "      <td>-0.241112</td>\n",
              "    </tr>\n",
              "    <tr>\n",
              "      <th>YEARS_BIRTH</th>\n",
              "      <td>-0.241112</td>\n",
              "      <td>1.000000</td>\n",
              "    </tr>\n",
              "  </tbody>\n",
              "</table>\n",
              "</div>"
            ],
            "text/plain": [
              "              CNT_CHILDREN  YEARS_BIRTH\n",
              "CNT_CHILDREN      1.000000    -0.241112\n",
              "YEARS_BIRTH      -0.241112     1.000000"
            ]
          },
          "execution_count": 392,
          "metadata": {},
          "output_type": "execute_result"
        }
      ],
      "source": [
        "df[['CNT_CHILDREN','YEARS_BIRTH']].corr()"
      ]
    },
    {
      "cell_type": "markdown",
      "metadata": {},
      "source": [
        " 10) Podemos concluir que, quanto mais tempo empregado, maior o crédito? Por que?"
      ]
    },
    {
      "cell_type": "code",
      "execution_count": 369,
      "metadata": {},
      "outputs": [
        {
          "data": {
            "text/plain": [
              "0    2.0\n",
              "1    3.0\n",
              "2    1.0\n",
              "3    8.0\n",
              "4    8.0\n",
              "Name: YEARS_EMPLOYED, dtype: float64"
            ]
          },
          "execution_count": 369,
          "metadata": {},
          "output_type": "execute_result"
        }
      ],
      "source": [
        "# Tratando os valores da coluna para deixar em anos e positivo\n",
        "df.rename(columns = {'DAYS_EMPLOYED':'YEARS_EMPLOYED'}, inplace=True)\n",
        "df['YEARS_EMPLOYED']= df.YEARS_EMPLOYED.apply(lambda x: round((x/365)*(-1), 0))\n",
        "df['YEARS_EMPLOYED'].head()"
      ]
    },
    {
      "cell_type": "code",
      "execution_count": 370,
      "metadata": {},
      "outputs": [
        {
          "data": {
            "text/plain": [
              "<AxesSubplot:>"
            ]
          },
          "execution_count": 370,
          "metadata": {},
          "output_type": "execute_result"
        },
        {
          "data": {
            "image/png": "[encoded data removed]",
            "text/plain": [
              "<Figure size 432x288 with 1 Axes>"
            ]
          },
          "metadata": {
            "needs_background": "light"
          },
          "output_type": "display_data"
        }
      ],
      "source": [
        "sns.boxplot(data = df['YEARS_EMPLOYED'])"
      ]
    },
    {
      "cell_type": "code",
      "execution_count": 371,
      "metadata": {},
      "outputs": [
        {
          "data": {
            "text/plain": [
              "<AxesSubplot:>"
            ]
          },
          "execution_count": 371,
          "metadata": {},
          "output_type": "execute_result"
        },
        {
          "data": {
            "image/png": "[encoded data removed]",
            "text/plain": [
              "<Figure size 432x288 with 1 Axes>"
            ]
          },
          "metadata": {
            "needs_background": "light"
          },
          "output_type": "display_data"
        }
      ],
      "source": [
        "#Tratando o outlier da coluna YEARS_EMPLOYED\n",
        "filtro = (df['YEARS_EMPLOYED'] >0)\n",
        "df= df[filtro]\n",
        "sns.boxplot(data = df['YEARS_EMPLOYED'])"
      ]
    },
    {
      "cell_type": "code",
      "execution_count": 372,
      "metadata": {},
      "outputs": [
        {
          "data": {
            "text/html": [
              "<div>\n",
              "<style scoped>\n",
              "    .dataframe tbody tr th:only-of-type {\n",
              "        vertical-align: middle;\n",
              "    }\n",
              "\n",
              "    .dataframe tbody tr th {\n",
              "        vertical-align: top;\n",
              "    }\n",
              "\n",
              "    .dataframe thead th {\n",
              "        text-align: right;\n",
              "    }\n",
              "</style>\n",
              "<table border=\"1\" class=\"dataframe\">\n",
              "  <thead>\n",
              "    <tr style=\"text-align: right;\">\n",
              "      <th></th>\n",
              "      <th>AMT_CREDIT</th>\n",
              "      <th>YEARS_EMPLOYED</th>\n",
              "    </tr>\n",
              "  </thead>\n",
              "  <tbody>\n",
              "    <tr>\n",
              "      <th>AMT_CREDIT</th>\n",
              "      <td>1.000000</td>\n",
              "      <td>0.089466</td>\n",
              "    </tr>\n",
              "    <tr>\n",
              "      <th>YEARS_EMPLOYED</th>\n",
              "      <td>0.089466</td>\n",
              "      <td>1.000000</td>\n",
              "    </tr>\n",
              "  </tbody>\n",
              "</table>\n",
              "</div>"
            ],
            "text/plain": [
              "                AMT_CREDIT  YEARS_EMPLOYED\n",
              "AMT_CREDIT        1.000000        0.089466\n",
              "YEARS_EMPLOYED    0.089466        1.000000"
            ]
          },
          "execution_count": 372,
          "metadata": {},
          "output_type": "execute_result"
        }
      ],
      "source": [
        "# Calculando a correlação\n",
        "\n",
        "df[['AMT_CREDIT', 'YEARS_EMPLOYED']].corr()"
      ]
    },
    {
      "cell_type": "code",
      "execution_count": 373,
      "metadata": {},
      "outputs": [
        {
          "data": {
            "text/plain": [
              "<AxesSubplot:xlabel='YEARS_EMPLOYED', ylabel='AMT_CREDIT'>"
            ]
          },
          "execution_count": 373,
          "metadata": {},
          "output_type": "execute_result"
        },
        {
          "data": {
            "image/png": "[encoded data removed]",
            "text/plain": [
              "<Figure size 432x288 with 1 Axes>"
            ]
          },
          "metadata": {
            "needs_background": "light"
          },
          "output_type": "display_data"
        }
      ],
      "source": [
        "sns.lineplot(data = df, y = 'AMT_CREDIT', x ='YEARS_EMPLOYED')"
      ]
    },
    {
      "cell_type": "markdown",
      "metadata": {},
      "source": [
        "11) Qual o desvio padrão da quantidade de filhos de quem tem 8 familiares?"
      ]
    },
    {
      "cell_type": "code",
      "execution_count": 374,
      "metadata": {},
      "outputs": [
        {
          "name": "stdout",
          "output_type": "stream",
          "text": [
            "O desvio padrão da quantidade de filhos de quem tem 8 familiares é 2.07\n"
          ]
        }
      ],
      "source": [
        "filtro = df['CNT_FAM_MEMBERS']>8\n",
        "desvio_padrao = df[filtro]['CNT_CHILDREN'].std()\n",
        "print(f'O desvio padrão da quantidade de filhos de quem tem 8 familiares é {desvio_padrao:.2f}')"
      ]
    },
    {
      "cell_type": "markdown",
      "metadata": {},
      "source": [
        "12) Quantos registros existem em que o número de filhos é maior que o número de familiares?\n"
      ]
    },
    {
      "cell_type": "code",
      "execution_count": 435,
      "metadata": {},
      "outputs": [
        {
          "data": {
            "text/html": [
              "<div>\n",
              "<style scoped>\n",
              "    .dataframe tbody tr th:only-of-type {\n",
              "        vertical-align: middle;\n",
              "    }\n",
              "\n",
              "    .dataframe tbody tr th {\n",
              "        vertical-align: top;\n",
              "    }\n",
              "\n",
              "    .dataframe thead th {\n",
              "        text-align: right;\n",
              "    }\n",
              "</style>\n",
              "<table border=\"1\" class=\"dataframe\">\n",
              "  <thead>\n",
              "    <tr style=\"text-align: right;\">\n",
              "      <th></th>\n",
              "      <th>SK_ID_CURR</th>\n",
              "      <th>TARGET</th>\n",
              "      <th>NAME_CONTRACT_TYPE</th>\n",
              "      <th>CODE_GENDER</th>\n",
              "      <th>FLAG_OWN_CAR</th>\n",
              "      <th>FLAG_OWN_REALTY</th>\n",
              "      <th>CNT_CHILDREN</th>\n",
              "      <th>AMT_INCOME_TOTAL</th>\n",
              "      <th>AMT_CREDIT</th>\n",
              "      <th>AMT_ANNUITY</th>\n",
              "      <th>...</th>\n",
              "      <th>HOUSETYPE_MODE</th>\n",
              "      <th>WALLSMATERIAL_MODE</th>\n",
              "      <th>EMERGENCYSTATE_MODE</th>\n",
              "      <th>DAYS_LAST_PHONE_CHANGE</th>\n",
              "      <th>AMT_REQ_CREDIT_BUREAU_HOUR</th>\n",
              "      <th>AMT_REQ_CREDIT_BUREAU_DAY</th>\n",
              "      <th>AMT_REQ_CREDIT_BUREAU_WEEK</th>\n",
              "      <th>AMT_REQ_CREDIT_BUREAU_MON</th>\n",
              "      <th>AMT_REQ_CREDIT_BUREAU_QRT</th>\n",
              "      <th>AMT_REQ_CREDIT_BUREAU_YEAR</th>\n",
              "    </tr>\n",
              "  </thead>\n",
              "  <tbody>\n",
              "  </tbody>\n",
              "</table>\n",
              "<p>0 rows × 36 columns</p>\n",
              "</div>"
            ],
            "text/plain": [
              "Empty DataFrame\n",
              "Columns: [SK_ID_CURR, TARGET, NAME_CONTRACT_TYPE, CODE_GENDER, FLAG_OWN_CAR, FLAG_OWN_REALTY, CNT_CHILDREN, AMT_INCOME_TOTAL, AMT_CREDIT, AMT_ANNUITY, AMT_GOODS_PRICE, NAME_EDUCATION_TYPE, NAME_FAMILY_STATUS, NAME_HOUSING_TYPE, YEARS_BIRTH, DAYS_EMPLOYED, OWN_CAR_AGE, FLAG_WORK_PHONE, FLAG_CONT_MOBILE, FLAG_EMAIL, OCCUPATION_TYPE, CNT_FAM_MEMBERS, REGION_RATING_CLIENT, WEEKDAY_APPR_PROCESS_START, HOUR_APPR_PROCESS_START, ORGANIZATION_TYPE, HOUSETYPE_MODE, WALLSMATERIAL_MODE, EMERGENCYSTATE_MODE, DAYS_LAST_PHONE_CHANGE, AMT_REQ_CREDIT_BUREAU_HOUR, AMT_REQ_CREDIT_BUREAU_DAY, AMT_REQ_CREDIT_BUREAU_WEEK, AMT_REQ_CREDIT_BUREAU_MON, AMT_REQ_CREDIT_BUREAU_QRT, AMT_REQ_CREDIT_BUREAU_YEAR]\n",
              "Index: []\n",
              "\n",
              "[0 rows x 36 columns]"
            ]
          },
          "execution_count": 435,
          "metadata": {},
          "output_type": "execute_result"
        }
      ],
      "source": [
        "filtro = df['CNT_CHILDREN'] > df['CNT_FAM_MEMBERS']\n",
        "df[filtro]"
      ]
    },
    {
      "cell_type": "markdown",
      "metadata": {},
      "source": [
        "13) Qual a média de dias por estado civil em que o telefone foi alterado de quem tem até 3 filhos, até 40 anos de idade e tem seu próprio imóvel?"
      ]
    },
    {
      "cell_type": "code",
      "execution_count": 382,
      "metadata": {},
      "outputs": [
        {
          "data": {
            "text/plain": [
              "0    1134.0\n",
              "1     828.0\n",
              "2     815.0\n",
              "3     617.0\n",
              "4    1106.0\n",
              "Name: DAYS_LAST_PHONE_CHANGE, dtype: float64"
            ]
          },
          "execution_count": 382,
          "metadata": {},
          "output_type": "execute_result"
        }
      ],
      "source": [
        "#Tratando os valores da coluna para deixar positivo\n",
        "df['DAYS_LAST_PHONE_CHANGE']= df.DAYS_LAST_PHONE_CHANGE.apply(lambda x: x*(-1))\n",
        "df['DAYS_LAST_PHONE_CHANGE'].head()"
      ]
    },
    {
      "cell_type": "code",
      "execution_count": 386,
      "metadata": {},
      "outputs": [
        {
          "data": {
            "text/plain": [
              "NAME_FAMILY_STATUS\n",
              "Civil marriage          816.358083\n",
              "Married                 915.626822\n",
              "Separated               886.731794\n",
              "Single / not married    741.054750\n",
              "Unknown                 876.000000\n",
              "Widow                   916.952381\n",
              "Name: DAYS_LAST_PHONE_CHANGE, dtype: float64"
            ]
          },
          "execution_count": 386,
          "metadata": {},
          "output_type": "execute_result"
        }
      ],
      "source": [
        "colunas  = ['NAME_FAMILY_STATUS']\n",
        "filtros = (df['CNT_CHILDREN'] <= 3) & (df['YEARS_BIRTH'] <= 40) & (df['FLAG_OWN_REALTY'] == 1)\n",
        "df[filtros].groupby(colunas)['DAYS_LAST_PHONE_CHANGE'].mean()"
      ]
    },
    {
      "cell_type": "markdown",
      "metadata": {},
      "source": [
        "14) Qual a quantidade de requisições por escolaridade x possuir o seu próprio carro x possuir sua própria casa?\n"
      ]
    },
    {
      "cell_type": "code",
      "execution_count": 397,
      "metadata": {},
      "outputs": [
        {
          "data": {
            "text/plain": [
              "NAME_EDUCATION_TYPE            FLAG_OWN_CAR  FLAG_OWN_REALTY\n",
              "Academic degree                0             0                      5\n",
              "                                             1                     19\n",
              "                               1             0                      2\n",
              "                                             1                      9\n",
              "Higher education               0             0                   3568\n",
              "                                             1                   6780\n",
              "                               1             0                   2622\n",
              "                                             1                   5585\n",
              "Incomplete higher              0             0                    565\n",
              "                                             1                    905\n",
              "                               1             0                    359\n",
              "                                             1                    644\n",
              "Lower secondary                0             0                    160\n",
              "                                             1                    241\n",
              "                               1             0                     81\n",
              "                                             1                    116\n",
              "Secondary / secondary special  0             0                   9598\n",
              "                                             1                  20523\n",
              "                               1             0                   5206\n",
              "                                             1                  11581\n",
              "Name: AMT_REQ_CREDIT_BUREAU_YEAR, dtype: int64"
            ]
          },
          "execution_count": 397,
          "metadata": {},
          "output_type": "execute_result"
        }
      ],
      "source": [
        "colunas = ['NAME_EDUCATION_TYPE','FLAG_OWN_CAR', 'FLAG_OWN_REALTY']\n",
        "df.groupby(colunas)['AMT_REQ_CREDIT_BUREAU_YEAR'].count()"
      ]
    },
    {
      "cell_type": "markdown",
      "metadata": {},
      "source": [
        "15) Quais os 3 tipos de organização em que seus empregados mais requisitaram análise de crédito pelo Bureau no último trimestre (com exceção do tipo Other)?"
      ]
    },
    {
      "cell_type": "code",
      "execution_count": 402,
      "metadata": {},
      "outputs": [
        {
          "data": {
            "text/plain": [
              "ORGANIZATION_TYPE\n",
              "Business Entity    22970\n",
              "Self-employed      10007\n",
              "Industry            4052\n",
              "Name: AMT_REQ_CREDIT_BUREAU_QRT, dtype: int64"
            ]
          },
          "execution_count": 402,
          "metadata": {},
          "output_type": "execute_result"
        }
      ],
      "source": [
        "colunas = ['ORGANIZATION_TYPE']\n",
        "\n",
        "filtros = (df['ORGANIZATION_TYPE'] != 'Other')\n",
        "\n",
        "df[filtros].groupby(colunas)['AMT_REQ_CREDIT_BUREAU_QRT'].count().sort_values(ascending = False)[:3]"
      ]
    },
    {
      "cell_type": "code",
      "execution_count": 399,
      "metadata": {},
      "outputs": [
        {
          "data": {
            "text/plain": [
              "array(['Business Entity', 'School', 'Government', 'Religion', 'Other',\n",
              "       'Electricity', 'Medicine', 'Self-employed', 'Transport',\n",
              "       'Construction', 'Housing', 'Kindergarten', 'Trade', 'Industry',\n",
              "       'Military', 'Services', 'Security Ministries', 'Emergency',\n",
              "       'Security', 'University', 'Police', 'Postal', 'Agriculture',\n",
              "       'Restaurant', 'Culture', 'Hotel', 'Bank', 'Insurance', 'Mobile',\n",
              "       'Legal Services', 'Advertising', 'Cleaning', 'Telecom', 'Realtor'],\n",
              "      dtype=object)"
            ]
          },
          "execution_count": 399,
          "metadata": {},
          "output_type": "execute_result"
        }
      ],
      "source": [
        "df.ORGANIZATION_TYPE.unique()"
      ]
    },
    {
      "cell_type": "markdown",
      "metadata": {},
      "source": [
        "16) Qual gênero requisitou mais análise de crédito na última semana?"
      ]
    },
    {
      "cell_type": "code",
      "execution_count": 408,
      "metadata": {},
      "outputs": [
        {
          "data": {
            "text/plain": [
              "CODE_GENDER\n",
              "F    43113\n",
              "M    25453\n",
              "Name: AMT_REQ_CREDIT_BUREAU_WEEK, dtype: int64"
            ]
          },
          "execution_count": 408,
          "metadata": {},
          "output_type": "execute_result"
        }
      ],
      "source": [
        "filtro = df['CODE_GENDER'] != 'XNA'\n",
        "df[filtro].groupby(df['CODE_GENDER'])['AMT_REQ_CREDIT_BUREAU_WEEK'].count().sort_values(ascending = False)"
      ]
    },
    {
      "cell_type": "markdown",
      "metadata": {},
      "source": [
        " 17) Existe alguma inconsistência no campo que indica o tempo de posse do carro? Ou seja, existem registros em que o requisitante informou não ter carro e informou o tempo ou vice-versa?"
      ]
    },
    {
      "cell_type": "code",
      "execution_count": null,
      "metadata": {},
      "outputs": [],
      "source": []
    },
    {
      "cell_type": "markdown",
      "metadata": {},
      "source": [
        "18) Qual a média de idade (em anos) por tipo de ocupação e escolaridade?"
      ]
    },
    {
      "cell_type": "code",
      "execution_count": 438,
      "metadata": {},
      "outputs": [
        {
          "data": {
            "text/html": [
              "<div>\n",
              "<style scoped>\n",
              "    .dataframe tbody tr th:only-of-type {\n",
              "        vertical-align: middle;\n",
              "    }\n",
              "\n",
              "    .dataframe tbody tr th {\n",
              "        vertical-align: top;\n",
              "    }\n",
              "\n",
              "    .dataframe thead th {\n",
              "        text-align: right;\n",
              "    }\n",
              "</style>\n",
              "<table border=\"1\" class=\"dataframe\">\n",
              "  <thead>\n",
              "    <tr style=\"text-align: right;\">\n",
              "      <th></th>\n",
              "      <th></th>\n",
              "      <th>YEARS_BIRTH</th>\n",
              "    </tr>\n",
              "    <tr>\n",
              "      <th>OCCUPATION_TYPE</th>\n",
              "      <th>NAME_EDUCATION_TYPE</th>\n",
              "      <th></th>\n",
              "    </tr>\n",
              "  </thead>\n",
              "  <tbody>\n",
              "    <tr>\n",
              "      <th rowspan=\"5\" valign=\"top\">Accountants</th>\n",
              "      <th>Academic degree</th>\n",
              "      <td>53.000000</td>\n",
              "    </tr>\n",
              "    <tr>\n",
              "      <th>Higher education</th>\n",
              "      <td>39.045314</td>\n",
              "    </tr>\n",
              "    <tr>\n",
              "      <th>Incomplete higher</th>\n",
              "      <td>33.266667</td>\n",
              "    </tr>\n",
              "    <tr>\n",
              "      <th>Lower secondary</th>\n",
              "      <td>38.142857</td>\n",
              "    </tr>\n",
              "    <tr>\n",
              "      <th>Secondary / secondary special</th>\n",
              "      <td>43.196413</td>\n",
              "    </tr>\n",
              "    <tr>\n",
              "      <th>...</th>\n",
              "      <th>...</th>\n",
              "      <td>...</td>\n",
              "    </tr>\n",
              "    <tr>\n",
              "      <th>Security staff</th>\n",
              "      <th>Secondary / secondary special</th>\n",
              "      <td>45.394450</td>\n",
              "    </tr>\n",
              "    <tr>\n",
              "      <th rowspan=\"4\" valign=\"top\">Waiters/barmen staff</th>\n",
              "      <th>Higher education</th>\n",
              "      <td>31.698413</td>\n",
              "    </tr>\n",
              "    <tr>\n",
              "      <th>Incomplete higher</th>\n",
              "      <td>25.942857</td>\n",
              "    </tr>\n",
              "    <tr>\n",
              "      <th>Lower secondary</th>\n",
              "      <td>34.333333</td>\n",
              "    </tr>\n",
              "    <tr>\n",
              "      <th>Secondary / secondary special</th>\n",
              "      <td>37.369369</td>\n",
              "    </tr>\n",
              "  </tbody>\n",
              "</table>\n",
              "<p>80 rows × 1 columns</p>\n",
              "</div>"
            ],
            "text/plain": [
              "                                                    YEARS_BIRTH\n",
              "OCCUPATION_TYPE      NAME_EDUCATION_TYPE                       \n",
              "Accountants          Academic degree                  53.000000\n",
              "                     Higher education                 39.045314\n",
              "                     Incomplete higher                33.266667\n",
              "                     Lower secondary                  38.142857\n",
              "                     Secondary / secondary special    43.196413\n",
              "...                                                         ...\n",
              "Security staff       Secondary / secondary special    45.394450\n",
              "Waiters/barmen staff Higher education                 31.698413\n",
              "                     Incomplete higher                25.942857\n",
              "                     Lower secondary                  34.333333\n",
              "                     Secondary / secondary special    37.369369\n",
              "\n",
              "[80 rows x 1 columns]"
            ]
          },
          "execution_count": 438,
          "metadata": {},
          "output_type": "execute_result"
        }
      ],
      "source": [
        "colunas = ['OCCUPATION_TYPE','NAME_EDUCATION_TYPE']\n",
        "serie = df.groupby(colunas)['YEARS_BIRTH'].mean()\n",
        "df1 = pd.DataFrame(serie)\n",
        "df1"
      ]
    },
    {
      "cell_type": "markdown",
      "metadata": {},
      "source": [
        "19) Qual a média de valor de anuidade contratada considerando o número de filhos e escolaridade dos requisitantes que solicitaram financiamento em dia útil dentro do horário comercial padrão (8h às 18h)?"
      ]
    },
    {
      "cell_type": "code",
      "execution_count": 409,
      "metadata": {},
      "outputs": [
        {
          "name": "stdout",
          "output_type": "stream",
          "text": [
            "<class 'pandas.core.frame.DataFrame'>\n",
            "Int64Index: 78880 entries, 0 to 99999\n",
            "Data columns (total 36 columns):\n",
            " #   Column                      Non-Null Count  Dtype  \n",
            "---  ------                      --------------  -----  \n",
            " 0   SK_ID_CURR                  78880 non-null  int64  \n",
            " 1   TARGET                      78880 non-null  int64  \n",
            " 2   NAME_CONTRACT_TYPE          78880 non-null  object \n",
            " 3   CODE_GENDER                 78880 non-null  object \n",
            " 4   FLAG_OWN_CAR                78880 non-null  int64  \n",
            " 5   FLAG_OWN_REALTY             78880 non-null  int64  \n",
            " 6   CNT_CHILDREN                78880 non-null  int64  \n",
            " 7   AMT_INCOME_TOTAL            78880 non-null  float64\n",
            " 8   AMT_CREDIT                  78880 non-null  float64\n",
            " 9   AMT_ANNUITY                 78873 non-null  float64\n",
            " 10  AMT_GOODS_PRICE             78808 non-null  float64\n",
            " 11  NAME_EDUCATION_TYPE         78880 non-null  object \n",
            " 12  NAME_FAMILY_STATUS          78880 non-null  object \n",
            " 13  NAME_HOUSING_TYPE           78880 non-null  object \n",
            " 14  YEARS_BIRTH                 78880 non-null  float64\n",
            " 15  YEARS_EMPLOYED              78880 non-null  float64\n",
            " 16  OWN_CAR_AGE                 29512 non-null  float64\n",
            " 17  FLAG_WORK_PHONE             78880 non-null  int64  \n",
            " 18  FLAG_CONT_MOBILE            78880 non-null  int64  \n",
            " 19  FLAG_EMAIL                  78880 non-null  int64  \n",
            " 20  OCCUPATION_TYPE             66072 non-null  object \n",
            " 21  CNT_FAM_MEMBERS             78879 non-null  float64\n",
            " 22  REGION_RATING_CLIENT        78880 non-null  int64  \n",
            " 23  WEEKDAY_APPR_PROCESS_START  78880 non-null  object \n",
            " 24  HOUR_APPR_PROCESS_START     78880 non-null  int64  \n",
            " 25  ORGANIZATION_TYPE           78880 non-null  object \n",
            " 26  HOUSETYPE_MODE              39490 non-null  object \n",
            " 27  WALLSMATERIAL_MODE          38970 non-null  object \n",
            " 28  EMERGENCYSTATE_MODE         41696 non-null  object \n",
            " 29  DAYS_LAST_PHONE_CHANGE      78879 non-null  float64\n",
            " 30  AMT_REQ_CREDIT_BUREAU_HOUR  68569 non-null  float64\n",
            " 31  AMT_REQ_CREDIT_BUREAU_DAY   68569 non-null  float64\n",
            " 32  AMT_REQ_CREDIT_BUREAU_WEEK  68569 non-null  float64\n",
            " 33  AMT_REQ_CREDIT_BUREAU_MON   68569 non-null  float64\n",
            " 34  AMT_REQ_CREDIT_BUREAU_QRT   68569 non-null  float64\n",
            " 35  AMT_REQ_CREDIT_BUREAU_YEAR  68569 non-null  float64\n",
            "dtypes: float64(15), int64(10), object(11)\n",
            "memory usage: 24.3+ MB\n"
          ]
        }
      ],
      "source": [
        "df.info()"
      ]
    },
    {
      "cell_type": "markdown",
      "metadata": {},
      "source": [
        "22) Ao analisar correlações, quantidades e agrupamentos entre colunas de marcadores como possuir carro, possuir casa, tipo de moradia, estado civil, escolaridade ou afins, o que chama sua atenção?\n"
      ]
    },
    {
      "cell_type": "code",
      "execution_count": 411,
      "metadata": {},
      "outputs": [
        {
          "data": {
            "text/html": [
              "<div>\n",
              "<style scoped>\n",
              "    .dataframe tbody tr th:only-of-type {\n",
              "        vertical-align: middle;\n",
              "    }\n",
              "\n",
              "    .dataframe tbody tr th {\n",
              "        vertical-align: top;\n",
              "    }\n",
              "\n",
              "    .dataframe thead th {\n",
              "        text-align: right;\n",
              "    }\n",
              "</style>\n",
              "<table border=\"1\" class=\"dataframe\">\n",
              "  <thead>\n",
              "    <tr style=\"text-align: right;\">\n",
              "      <th></th>\n",
              "      <th>FLAG_OWN_CAR</th>\n",
              "      <th>FLAG_OWN_REALTY</th>\n",
              "    </tr>\n",
              "  </thead>\n",
              "  <tbody>\n",
              "    <tr>\n",
              "      <th>FLAG_OWN_CAR</th>\n",
              "      <td>1.000000</td>\n",
              "      <td>0.015534</td>\n",
              "    </tr>\n",
              "    <tr>\n",
              "      <th>FLAG_OWN_REALTY</th>\n",
              "      <td>0.015534</td>\n",
              "      <td>1.000000</td>\n",
              "    </tr>\n",
              "  </tbody>\n",
              "</table>\n",
              "</div>"
            ],
            "text/plain": [
              "                 FLAG_OWN_CAR  FLAG_OWN_REALTY\n",
              "FLAG_OWN_CAR         1.000000         0.015534\n",
              "FLAG_OWN_REALTY      0.015534         1.000000"
            ]
          },
          "execution_count": 411,
          "metadata": {},
          "output_type": "execute_result"
        }
      ],
      "source": [
        "colunas = ['FLAG_OWN_CAR', 'FLAG_OWN_REALTY', 'NAME_HOUSING_TYPE', 'NAME_EDUCATION_TYPE', 'NAME_FAMILY_STATUS']\n",
        "\n",
        "df[colunas].corr()"
      ]
    },
    {
      "cell_type": "code",
      "execution_count": null,
      "metadata": {},
      "outputs": [],
      "source": [
        "def show_all(df):\n",
        "    \n",
        "    # setando opções sem limites\n",
        "    pd.set_option('display.max_columns', None)\n",
        "    pd.set_option('display.max_rows', None)\n",
        "    pd.set_option('max_colwidth', None)\n",
        "    \n",
        "    display(df)\n",
        "    \n",
        "    # resetando opções pro padrão    \n",
        "    pd.reset_option('display.max_columns')\n",
        "    pd.reset_option('display.max_rows')\n",
        "    pd.reset_option('max_colwidth')"
      ]
    },
    {
      "cell_type": "code",
      "execution_count": 412,
      "metadata": {},
      "outputs": [
        {
          "data": {
            "text/html": [
              "<div>\n",
              "<style scoped>\n",
              "    .dataframe tbody tr th:only-of-type {\n",
              "        vertical-align: middle;\n",
              "    }\n",
              "\n",
              "    .dataframe tbody tr th {\n",
              "        vertical-align: top;\n",
              "    }\n",
              "\n",
              "    .dataframe thead th {\n",
              "        text-align: right;\n",
              "    }\n",
              "</style>\n",
              "<table border=\"1\" class=\"dataframe\">\n",
              "  <thead>\n",
              "    <tr style=\"text-align: right;\">\n",
              "      <th></th>\n",
              "      <th></th>\n",
              "      <th></th>\n",
              "      <th></th>\n",
              "      <th></th>\n",
              "      <th>FLAG_OWN_CAR</th>\n",
              "      <th>FLAG_OWN_REALTY</th>\n",
              "      <th>NAME_HOUSING_TYPE</th>\n",
              "      <th>NAME_EDUCATION_TYPE</th>\n",
              "      <th>NAME_FAMILY_STATUS</th>\n",
              "    </tr>\n",
              "    <tr>\n",
              "      <th>FLAG_OWN_CAR</th>\n",
              "      <th>FLAG_OWN_REALTY</th>\n",
              "      <th>NAME_HOUSING_TYPE</th>\n",
              "      <th>NAME_EDUCATION_TYPE</th>\n",
              "      <th>NAME_FAMILY_STATUS</th>\n",
              "      <th></th>\n",
              "      <th></th>\n",
              "      <th></th>\n",
              "      <th></th>\n",
              "      <th></th>\n",
              "    </tr>\n",
              "  </thead>\n",
              "  <tbody>\n",
              "    <tr>\n",
              "      <th rowspan=\"5\" valign=\"top\">0</th>\n",
              "      <th rowspan=\"5\" valign=\"top\">0</th>\n",
              "      <th rowspan=\"5\" valign=\"top\">Co-op apartment</th>\n",
              "      <th>Academic degree</th>\n",
              "      <th>Married</th>\n",
              "      <td>1</td>\n",
              "      <td>1</td>\n",
              "      <td>1</td>\n",
              "      <td>1</td>\n",
              "      <td>1</td>\n",
              "    </tr>\n",
              "    <tr>\n",
              "      <th rowspan=\"4\" valign=\"top\">Higher education</th>\n",
              "      <th>Civil marriage</th>\n",
              "      <td>2</td>\n",
              "      <td>2</td>\n",
              "      <td>2</td>\n",
              "      <td>2</td>\n",
              "      <td>2</td>\n",
              "    </tr>\n",
              "    <tr>\n",
              "      <th>Married</th>\n",
              "      <td>17</td>\n",
              "      <td>17</td>\n",
              "      <td>17</td>\n",
              "      <td>17</td>\n",
              "      <td>17</td>\n",
              "    </tr>\n",
              "    <tr>\n",
              "      <th>Separated</th>\n",
              "      <td>3</td>\n",
              "      <td>3</td>\n",
              "      <td>3</td>\n",
              "      <td>3</td>\n",
              "      <td>3</td>\n",
              "    </tr>\n",
              "    <tr>\n",
              "      <th>Single / not married</th>\n",
              "      <td>8</td>\n",
              "      <td>8</td>\n",
              "      <td>8</td>\n",
              "      <td>8</td>\n",
              "      <td>8</td>\n",
              "    </tr>\n",
              "    <tr>\n",
              "      <th>...</th>\n",
              "      <th>...</th>\n",
              "      <th>...</th>\n",
              "      <th>...</th>\n",
              "      <th>...</th>\n",
              "      <td>...</td>\n",
              "      <td>...</td>\n",
              "      <td>...</td>\n",
              "      <td>...</td>\n",
              "      <td>...</td>\n",
              "    </tr>\n",
              "    <tr>\n",
              "      <th rowspan=\"5\" valign=\"top\">1</th>\n",
              "      <th rowspan=\"5\" valign=\"top\">1</th>\n",
              "      <th rowspan=\"5\" valign=\"top\">With parents</th>\n",
              "      <th rowspan=\"5\" valign=\"top\">Secondary / secondary special</th>\n",
              "      <th>Civil marriage</th>\n",
              "      <td>37</td>\n",
              "      <td>37</td>\n",
              "      <td>37</td>\n",
              "      <td>37</td>\n",
              "      <td>37</td>\n",
              "    </tr>\n",
              "    <tr>\n",
              "      <th>Married</th>\n",
              "      <td>241</td>\n",
              "      <td>241</td>\n",
              "      <td>241</td>\n",
              "      <td>241</td>\n",
              "      <td>241</td>\n",
              "    </tr>\n",
              "    <tr>\n",
              "      <th>Separated</th>\n",
              "      <td>25</td>\n",
              "      <td>25</td>\n",
              "      <td>25</td>\n",
              "      <td>25</td>\n",
              "      <td>25</td>\n",
              "    </tr>\n",
              "    <tr>\n",
              "      <th>Single / not married</th>\n",
              "      <td>111</td>\n",
              "      <td>111</td>\n",
              "      <td>111</td>\n",
              "      <td>111</td>\n",
              "      <td>111</td>\n",
              "    </tr>\n",
              "    <tr>\n",
              "      <th>Widow</th>\n",
              "      <td>1</td>\n",
              "      <td>1</td>\n",
              "      <td>1</td>\n",
              "      <td>1</td>\n",
              "      <td>1</td>\n",
              "    </tr>\n",
              "  </tbody>\n",
              "</table>\n",
              "<p>399 rows × 5 columns</p>\n",
              "</div>"
            ],
            "text/plain": [
              "                                                                                                   FLAG_OWN_CAR  \\\n",
              "FLAG_OWN_CAR FLAG_OWN_REALTY NAME_HOUSING_TYPE NAME_EDUCATION_TYPE           NAME_FAMILY_STATUS                   \n",
              "0            0               Co-op apartment   Academic degree               Married                          1   \n",
              "                                               Higher education              Civil marriage                   2   \n",
              "                                                                             Married                         17   \n",
              "                                                                             Separated                        3   \n",
              "                                                                             Single / not married             8   \n",
              "...                                                                                                         ...   \n",
              "1            1               With parents      Secondary / secondary special Civil marriage                  37   \n",
              "                                                                             Married                        241   \n",
              "                                                                             Separated                       25   \n",
              "                                                                             Single / not married           111   \n",
              "                                                                             Widow                            1   \n",
              "\n",
              "                                                                                                   FLAG_OWN_REALTY  \\\n",
              "FLAG_OWN_CAR FLAG_OWN_REALTY NAME_HOUSING_TYPE NAME_EDUCATION_TYPE           NAME_FAMILY_STATUS                      \n",
              "0            0               Co-op apartment   Academic degree               Married                             1   \n",
              "                                               Higher education              Civil marriage                      2   \n",
              "                                                                             Married                            17   \n",
              "                                                                             Separated                           3   \n",
              "                                                                             Single / not married                8   \n",
              "...                                                                                                            ...   \n",
              "1            1               With parents      Secondary / secondary special Civil marriage                     37   \n",
              "                                                                             Married                           241   \n",
              "                                                                             Separated                          25   \n",
              "                                                                             Single / not married              111   \n",
              "                                                                             Widow                               1   \n",
              "\n",
              "                                                                                                   NAME_HOUSING_TYPE  \\\n",
              "FLAG_OWN_CAR FLAG_OWN_REALTY NAME_HOUSING_TYPE NAME_EDUCATION_TYPE           NAME_FAMILY_STATUS                        \n",
              "0            0               Co-op apartment   Academic degree               Married                               1   \n",
              "                                               Higher education              Civil marriage                        2   \n",
              "                                                                             Married                              17   \n",
              "                                                                             Separated                             3   \n",
              "                                                                             Single / not married                  8   \n",
              "...                                                                                                              ...   \n",
              "1            1               With parents      Secondary / secondary special Civil marriage                       37   \n",
              "                                                                             Married                             241   \n",
              "                                                                             Separated                            25   \n",
              "                                                                             Single / not married                111   \n",
              "                                                                             Widow                                 1   \n",
              "\n",
              "                                                                                                   NAME_EDUCATION_TYPE  \\\n",
              "FLAG_OWN_CAR FLAG_OWN_REALTY NAME_HOUSING_TYPE NAME_EDUCATION_TYPE           NAME_FAMILY_STATUS                          \n",
              "0            0               Co-op apartment   Academic degree               Married                                 1   \n",
              "                                               Higher education              Civil marriage                          2   \n",
              "                                                                             Married                                17   \n",
              "                                                                             Separated                               3   \n",
              "                                                                             Single / not married                    8   \n",
              "...                                                                                                                ...   \n",
              "1            1               With parents      Secondary / secondary special Civil marriage                         37   \n",
              "                                                                             Married                               241   \n",
              "                                                                             Separated                              25   \n",
              "                                                                             Single / not married                  111   \n",
              "                                                                             Widow                                   1   \n",
              "\n",
              "                                                                                                   NAME_FAMILY_STATUS  \n",
              "FLAG_OWN_CAR FLAG_OWN_REALTY NAME_HOUSING_TYPE NAME_EDUCATION_TYPE           NAME_FAMILY_STATUS                        \n",
              "0            0               Co-op apartment   Academic degree               Married                                1  \n",
              "                                               Higher education              Civil marriage                         2  \n",
              "                                                                             Married                               17  \n",
              "                                                                             Separated                              3  \n",
              "                                                                             Single / not married                   8  \n",
              "...                                                                                                               ...  \n",
              "1            1               With parents      Secondary / secondary special Civil marriage                        37  \n",
              "                                                                             Married                              241  \n",
              "                                                                             Separated                             25  \n",
              "                                                                             Single / not married                 111  \n",
              "                                                                             Widow                                  1  \n",
              "\n",
              "[399 rows x 5 columns]"
            ]
          },
          "execution_count": 412,
          "metadata": {},
          "output_type": "execute_result"
        }
      ],
      "source": [
        "df.groupby(colunas)[colunas].count()"
      ]
    },
    {
      "cell_type": "code",
      "execution_count": null,
      "metadata": {},
      "outputs": [],
      "source": []
    }
  ],
  "metadata": {
    "colab": {
      "provenance": []
    },
    "kernelspec": {
      "display_name": "Python 3.9.12 ('base')",
      "language": "python",
      "name": "python3"
    },
    "language_info": {
      "codemirror_mode": {
        "name": "ipython",
        "version": 3
      },
      "file_extension": ".py",
      "mimetype": "text/x-python",
      "name": "python",
      "nbconvert_exporter": "python",
      "pygments_lexer": "ipython3",
      "version": "3.9.12"
    },
    "vscode": {
      "interpreter": {
        "hash": "3a0de9df006df342b5e4296aedaeaf87f8585c794651fec65fd5881a82402807"
      }
    }
  },
  "nbformat": 4,
  "nbformat_minor": 0
}
